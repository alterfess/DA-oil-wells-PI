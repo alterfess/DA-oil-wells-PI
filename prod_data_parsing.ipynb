{
 "cells": [
  {
   "cell_type": "code",
   "execution_count": 84,
   "metadata": {},
   "outputs": [],
   "source": [
    "import pandas as pd\n",
    "import numpy as np\n",
    "import matplotlib.pyplot as plt\n",
    "from collections import Counter"
   ]
  },
  {
   "cell_type": "code",
   "execution_count": 85,
   "metadata": {},
   "outputs": [],
   "source": [
    "df_wells_data = pd.read_excel(\"prod_data.xlsm\", sheet_name = 'veniki2')\n",
    "df_group_data = pd.read_excel(\"groups.xlsx\")\n",
    "\n",
    "old_columns = list(df_wells_data.columns)\n",
    "new_columns = range(len(df_wells_data.columns)+1)\n",
    "\n",
    "dict_columns = dict(zip(old_columns, new_columns))\n",
    "df_wells_data.rename(columns = dict_columns, inplace = True)"
   ]
  },
  {
   "cell_type": "code",
   "execution_count": 102,
   "metadata": {},
   "outputs": [],
   "source": [
    "class Well:\n",
    "    \n",
    "    def __init__(self, name, PI_group, Pwf_group, BT_group, comp_group, OIP, LOIP):\n",
    "        \n",
    "        self.name = name\n",
    "        self.PI_group = PI_group\n",
    "        self.Pwf_group = Pwf_group\n",
    "        self.comp_group = comp_group\n",
    "        self.BT_group = BT_group\n",
    "        self.oil_rate = None\n",
    "        self.l_rate = None\n",
    "        self.PI = None\n",
    "        self.Pwf = None\n",
    "        self.WCT = None\n",
    "        self.GOR = None\n",
    "        self.c_oil = None\n",
    "        self.OIP = OIP\n",
    "        self.LOIP = LOIP\n",
    "        \n",
    "    def parse_values(column, well):\n",
    "\n",
    "        if well.name == df_wells_data.at[0, column]:\n",
    "            well.oil_rate = np.asarray(df_wells_data[column][2:].to_list())\n",
    "            well.l_rate = np.asarray(df_wells_data[column + 1][2:].to_list())\n",
    "            well.PI = np.asarray(df_wells_data[column + 2][2:].to_list())\n",
    "            well.Pwf = np.asarray(df_wells_data[column + 3][2:].to_list())\n",
    "            well.WCT = np.asarray(df_wells_data[column + 4][2:].to_list())\n",
    "            well.GOR = np.asarray(df_wells_data[column + 5][2:].to_list())\n",
    "            well.c_oil = np.asarray(df_wells_data[column + 6][2:].to_list())"
   ]
  },
  {
   "cell_type": "code",
   "execution_count": 103,
   "metadata": {},
   "outputs": [],
   "source": [
    "well_names = []\n",
    "\n",
    "for i in range(2, len(df_wells_data.columns), 7):\n",
    "    well_name = df_wells_data.iloc[0][i]\n",
    "    well_names.append(well_name)\n",
    "\n",
    "well_list = []\n",
    "\n",
    "for item in range(len(well_names)):\n",
    "    for j in range(len(df_group_data)):\n",
    "        if df_group_data['Well'][j] == well_names[item]:\n",
    "            well_list.append(Well(well_names[item], df_group_data['PI'][j], df_group_data['BHP'][j], df_group_data['BT'][j], df_group_data['Completion'][j], df_group_data['OIP'][j], df_group_data['LOIP'][j]))\n",
    "            \n",
    "\n",
    "for item in well_list:\n",
    "    for columns in df_wells_data.columns:\n",
    "        Well.parse_values(columns, item)"
   ]
  },
  {
   "cell_type": "code",
   "execution_count": 112,
   "metadata": {},
   "outputs": [],
   "source": [
    "well_name = []\n",
    "well_comp = []\n",
    "well_PI_5 = []\n",
    "well_PI_10 = []\n",
    "well_PI_20 = []\n",
    "well_PI_60 = []\n",
    "well_PI_150 = []\n",
    "\n",
    "for well in well_list:\n",
    "    well_name.append(str(well.name))\n",
    "    well_PI_5.append(well.WCT[4])\n",
    "    well_PI_10.append(well.WCT[9])\n",
    "    well_PI_20.append(well.WCT[19])\n",
    "    well_PI_60.append(well.WCT[59])\n",
    "    well_PI_150.append(well.WCT[149])\n",
    "    well_comp.append(well.comp_group)\n",
    "    \n",
    "data = {\"wellName\":well_name, \"well_comp\":well_comp, \"well_PI_5\":well_PI_5, \"well_PI_10\":well_PI_10, \"well_PI_20\":well_PI_20, 'well_PI_60':well_PI_60, 'well_PI_150':well_PI_150}"
   ]
  },
  {
   "cell_type": "code",
   "execution_count": 113,
   "metadata": {},
   "outputs": [],
   "source": [
    "df_prod = pd.DataFrame(data)"
   ]
  },
  {
   "cell_type": "code",
   "execution_count": 114,
   "metadata": {
    "scrolled": true
   },
   "outputs": [
    {
     "name": "stdout",
     "output_type": "stream",
     "text": [
      "Stored 'df_prod' (DataFrame)\n"
     ]
    }
   ],
   "source": [
    "%store df_prod"
   ]
  },
  {
   "cell_type": "code",
   "execution_count": null,
   "metadata": {},
   "outputs": [],
   "source": []
  },
  {
   "cell_type": "code",
   "execution_count": null,
   "metadata": {},
   "outputs": [],
   "source": [
    "for well in well_list:\n",
    "    well_name.append(str(well.name))\n",
    "    well_PI_5.append(well.PI[4]/well.WCT[4])\n",
    "    well_PI_10.append(well.PI[9]/well.WCT[9])\n",
    "    well_PI_20.append(well.PI[19]/well.WCT[19])\n",
    "    well_PI_60.append(well.PI[59]/well.WCT[59])\n",
    "    well_PI_150.append(well.PI[149]/well.WCT[149])\n",
    "    well_comp.append(well.comp_group)"
   ]
  },
  {
   "cell_type": "code",
   "execution_count": null,
   "metadata": {},
   "outputs": [],
   "source": [
    "for well in well_list:\n",
    "    well_name.append(str(well.name))\n",
    "    well_PI_5.append(well.PI[4])\n",
    "    well_PI_10.append(well.PI[9])\n",
    "    well_PI_20.append(well.PI[19])\n",
    "    well_PI_60.append(well.PI[59])\n",
    "    well_PI_150.append(well.PI[149])\n",
    "    well_comp.append(well.comp_group)"
   ]
  },
  {
   "cell_type": "code",
   "execution_count": null,
   "metadata": {},
   "outputs": [],
   "source": [
    "for well in well_list:\n",
    "    well_name.append(str(well.name))\n",
    "    well_PI_5.append(well.PI[4]*(1-well.WCT[4]/100))\n",
    "    well_PI_10.append(well.PI[9]*well.WCT[9]/100)\n",
    "    well_PI_20.append(well.PI[19]*well.WCT[19]/100)\n",
    "    well_PI_60.append(well.PI[59]*well.WCT[59]/100)\n",
    "    well_PI_150.append(well.PI[149]*well.WCT[149]/100)\n",
    "    well_comp.append(well.comp_group)"
   ]
  }
 ],
 "metadata": {
  "kernelspec": {
   "display_name": "Python 3",
   "language": "python",
   "name": "python3"
  },
  "language_info": {
   "codemirror_mode": {
    "name": "ipython",
    "version": 3
   },
   "file_extension": ".py",
   "mimetype": "text/x-python",
   "name": "python",
   "nbconvert_exporter": "python",
   "pygments_lexer": "ipython3",
   "version": "3.8.5"
  }
 },
 "nbformat": 4,
 "nbformat_minor": 4
}
